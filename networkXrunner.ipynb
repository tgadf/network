{
 "cells": [
  {
   "cell_type": "code",
   "execution_count": 1,
   "metadata": {},
   "outputs": [],
   "source": [
    "import networkx as nx\n",
    "import networkx.algorithms as algos\n",
    "from networkx.algorithms import approximation\n",
    "from timeUtils import clock, elapsed"
   ]
  },
  {
   "cell_type": "code",
   "execution_count": null,
   "metadata": {},
   "outputs": [],
   "source": []
  },
  {
   "cell_type": "code",
   "execution_count": 2,
   "metadata": {},
   "outputs": [
    {
     "name": "stdout",
     "output_type": "stream",
     "text": [
      "Current Time is Wed Nov 07, 2018 13:14:28 for Last Run\n"
     ]
    }
   ],
   "source": [
    "class networkApproximationAlgorithms():\n",
    "    def __init__(self, g, debug=False):\n",
    "        self.debug = debug\n",
    "        self.g = g\n",
    "        self.isDirected = self.g.is_directed()\n",
    "        \n",
    "\n",
    "    def connectivity(self):\n",
    "        key = \"Connectivity\"\n",
    "        if self.debug:\n",
    "            start, cmt = clock(\"Computing {0}\".format(key))\n",
    "            \n",
    "        network_connectivity = approximation.all_pairs_node_connectivity(self.g)\n",
    "        pair_connectivity    = approximation.node_connectivity(self.g)\n",
    "        \n",
    "        if self.debug:\n",
    "            elapsed(start, cmt)\n",
    "            \n",
    "        retval = {\"Key\": key, \"Value\": {\"Network\": network_connectivity, \"Pair\": pair_connectivity}}\n",
    "        return retval\n",
    "\n",
    "    def kcomponents(self):\n",
    "        key = \"KComponents\"\n",
    "        if self.debug:\n",
    "            start, cmt = clock(\"Computing {0}\".format(key))\n",
    "            \n",
    "        if self.isDirected is False:\n",
    "            components = approximation.k_components(self.g)\n",
    "        else:\n",
    "            components = None\n",
    "        \n",
    "        if self.debug:\n",
    "            elapsed(start, cmt)\n",
    "            \n",
    "        retval = {\"Key\": key, \"Value\": {\"Components\": components}}\n",
    "        return retval\n",
    "\n",
    "    def clique(self):\n",
    "        key = \"Clique\"\n",
    "        if self.debug:\n",
    "            start, cmt = clock(\"Computing {0}\".format(key))\n",
    "            \n",
    "        maxclique = approximation.max_clique(g)\n",
    "        \n",
    "        if self.debug:\n",
    "            elapsed(start, cmt)\n",
    "            \n",
    "        retval = {\"Key\": key, \"Value\": {\"Max\": maxclique}}\n",
    "        return retval\n",
    "\n",
    "    def clustering(self):\n",
    "        key = \"Clustering\"\n",
    "        if self.debug:\n",
    "            start, cmt = clock(\"Computing {0}\".format(key))\n",
    "        \n",
    "        if self.isDirected is False:\n",
    "            coeff = approximation.average_clustering(g)\n",
    "        else:\n",
    "            coeff = None\n",
    "        \n",
    "        if self.debug:\n",
    "            elapsed(start, cmt)\n",
    "            \n",
    "        retval = {\"Key\": key, \"Value\": {\"Coefficient\": coeff}}\n",
    "        return retval\n",
    "\n",
    "    def dominatingset(self):\n",
    "        key = \"DominatingSet\"\n",
    "        if self.debug:\n",
    "            start, cmt = clock(\"Computing {0}\".format(key))\n",
    "        \n",
    "        if self.isDirected is False:\n",
    "            minweighted  = approximation.min_weighted_dominating_set(g)\n",
    "            minedge      = approximation.min_edge_dominating_set(g)\n",
    "        else:\n",
    "            minweighted  = None\n",
    "            minedge      = approximation.min_edge_dominating_set(g)\n",
    "        \n",
    "        if self.debug:\n",
    "            elapsed(start, cmt)\n",
    "            \n",
    "        retval = {\"Key\": key, \"Value\": {\"MinWeightedSet\": minweighted, \"MinEdgeSet\": minedge}}\n",
    "        return retval\n",
    "\n",
    "    def independentset(self):\n",
    "        key = \"IndependentSet\"\n",
    "        if self.debug:\n",
    "            start, cmt = clock(\"Computing {0}\".format(key))\n",
    "        \n",
    "        try:\n",
    "            maxindep  = approximation.maximum_independent_set(g)\n",
    "        except:\n",
    "            maxindep  = None\n",
    "        \n",
    "        if self.debug:\n",
    "            elapsed(start, cmt)\n",
    "            \n",
    "        retval = {\"Key\": key, \"Value\": {\"MaxSet\": maxindep}}\n",
    "        return retval\n",
    "\n",
    "    def graphmatching(self):\n",
    "        key = \"GraphMatching\"\n",
    "        if self.debug:\n",
    "            start, cmt = clock(\"Computing {0}\".format(key))\n",
    "        \n",
    "        minmaxmatch  = approximation.min_maximal_matching(g)\n",
    "        \n",
    "        if self.debug:\n",
    "            elapsed(start, cmt)\n",
    "            \n",
    "        retval = {\"Key\": key, \"Value\": {\"Matching\": minmaxmatch}}\n",
    "        return retval\n",
    "\n",
    "    def ramsey(self):\n",
    "        key = \"GraphMatching\"\n",
    "        if self.debug:\n",
    "            start, cmt = clock(\"Computing {0}\".format(key))\n",
    "        \n",
    "        try:\n",
    "            ramsey  = approximation.ramsey_R2(g)\n",
    "        except:\n",
    "            ramsey  = None\n",
    "        \n",
    "        if self.debug:\n",
    "            elapsed(start, cmt)\n",
    "            \n",
    "        retval = {\"Key\": key, \"Value\": {\"RamseyR2\": ramsey}}\n",
    "        return retval\n",
    "\n",
    "    def vertexcover(self):\n",
    "        key = \"VertexCover\"\n",
    "        if self.debug:\n",
    "            start, cmt = clock(\"Computing {0}\".format(key))\n",
    "        \n",
    "        if self.isDirected is False:\n",
    "            minweighted  = approximation.min_weighted_vertex_cover(g)\n",
    "        else:\n",
    "            minweighted  = None\n",
    "        \n",
    "        if self.debug:\n",
    "            elapsed(start, cmt)\n",
    "            \n",
    "        retval = {\"Key\": key, \"Value\": {\"MinWeighted\": minweighted}}\n",
    "        return retval\n",
    "    \n",
    "_, _ = clock(\"Last Run\")"
   ]
  },
  {
   "cell_type": "code",
   "execution_count": 220,
   "metadata": {},
   "outputs": [],
   "source": [
    "mynet = network()"
   ]
  },
  {
   "cell_type": "code",
   "execution_count": 221,
   "metadata": {},
   "outputs": [],
   "source": [
    "mynet.addEdge(['A', 'B'], {\"weight\": 3})\n",
    "mynet.addEdge(['A', 'C'], {\"weight\": 2})\n",
    "mynet.addEdge(['A', 'D'], {\"weight\": 6})\n",
    "mynet.addEdge(['B', 'C'], {\"weight\": 1})\n",
    "mynet.addEdge(['C', 'C'], {\"weight\": 1})\n",
    "mynet.addEdge(['C', 'D'], {\"weight\": 1})\n",
    "mynet.addEdge(['D', 'A'], {\"weight\": 1})"
   ]
  },
  {
   "cell_type": "code",
   "execution_count": 222,
   "metadata": {},
   "outputs": [],
   "source": [
    "mynet.setDebug(True)"
   ]
  },
  {
   "cell_type": "code",
   "execution_count": 223,
   "metadata": {},
   "outputs": [],
   "source": [
    "nf = networkApproximationAlgorithms(g)"
   ]
  },
  {
   "cell_type": "code",
   "execution_count": 224,
   "metadata": {},
   "outputs": [
    {
     "data": {
      "text/plain": [
       "{'Key': 'Connectivity',\n",
       " 'Value': {'Network': {'A': {'B': 1, 'C': 2, 'D': 2},\n",
       "   'B': {'A': 1, 'C': 1, 'D': 1},\n",
       "   'C': {'A': 1, 'B': 1, 'D': 1},\n",
       "   'D': {'A': 1, 'B': 1, 'C': 1}},\n",
       "  'Pair': 1}}"
      ]
     },
     "execution_count": 224,
     "metadata": {},
     "output_type": "execute_result"
    }
   ],
   "source": [
    "nf.connectivity()"
   ]
  },
  {
   "cell_type": "code",
   "execution_count": 225,
   "metadata": {},
   "outputs": [
    {
     "data": {
      "text/plain": [
       "{'Key': 'KComponents', 'Value': {'Components': None}}"
      ]
     },
     "execution_count": 225,
     "metadata": {},
     "output_type": "execute_result"
    }
   ],
   "source": [
    "nf.kcomponents()"
   ]
  },
  {
   "cell_type": "code",
   "execution_count": 226,
   "metadata": {},
   "outputs": [
    {
     "data": {
      "text/plain": [
       "{'Key': 'Clique', 'Value': {'Max': {'B', 'C'}}}"
      ]
     },
     "execution_count": 226,
     "metadata": {},
     "output_type": "execute_result"
    }
   ],
   "source": [
    "nf.clique()"
   ]
  },
  {
   "cell_type": "code",
   "execution_count": 227,
   "metadata": {},
   "outputs": [
    {
     "data": {
      "text/plain": [
       "{'Key': 'Clustering', 'Value': {'Coefficient': None}}"
      ]
     },
     "execution_count": 227,
     "metadata": {},
     "output_type": "execute_result"
    }
   ],
   "source": [
    "nf.clustering()"
   ]
  },
  {
   "cell_type": "code",
   "execution_count": 228,
   "metadata": {},
   "outputs": [
    {
     "data": {
      "text/plain": [
       "{'Key': 'DominatingSet',\n",
       " 'Value': {'MinWeightedSet': None, 'MinEdgeSet': {('A', 'B'), ('C', 'C')}}}"
      ]
     },
     "execution_count": 228,
     "metadata": {},
     "output_type": "execute_result"
    }
   ],
   "source": [
    "nf.dominatingset()"
   ]
  },
  {
   "cell_type": "code",
   "execution_count": 229,
   "metadata": {},
   "outputs": [
    {
     "data": {
      "text/plain": [
       "{'Key': 'IndependentSet', 'Value': {'MaxSet': None}}"
      ]
     },
     "execution_count": 229,
     "metadata": {},
     "output_type": "execute_result"
    }
   ],
   "source": [
    "nf.independentset()"
   ]
  },
  {
   "cell_type": "code",
   "execution_count": 230,
   "metadata": {},
   "outputs": [
    {
     "data": {
      "text/plain": [
       "{'Key': 'GraphMatching', 'Value': {'Matching': {('A', 'B'), ('C', 'C')}}}"
      ]
     },
     "execution_count": 230,
     "metadata": {},
     "output_type": "execute_result"
    }
   ],
   "source": [
    "nf.graphmatching()"
   ]
  },
  {
   "cell_type": "code",
   "execution_count": 231,
   "metadata": {},
   "outputs": [
    {
     "data": {
      "text/plain": [
       "{'Key': 'GraphMatching', 'Value': {'RamseyR2': None}}"
      ]
     },
     "execution_count": 231,
     "metadata": {},
     "output_type": "execute_result"
    }
   ],
   "source": [
    "nf.ramsey()"
   ]
  },
  {
   "cell_type": "code",
   "execution_count": 232,
   "metadata": {},
   "outputs": [
    {
     "data": {
      "text/plain": [
       "{'Key': 'VertexCover', 'Value': {'MinWeighted': None}}"
      ]
     },
     "execution_count": 232,
     "metadata": {},
     "output_type": "execute_result"
    }
   ],
   "source": [
    "nf.vertexcover()"
   ]
  },
  {
   "cell_type": "code",
   "execution_count": null,
   "metadata": {},
   "outputs": [],
   "source": []
  },
  {
   "cell_type": "code",
   "execution_count": 84,
   "metadata": {},
   "outputs": [
    {
     "name": "stdout",
     "output_type": "stream",
     "text": [
      "A {'B': {'weight': 3}, 'C': {'weight': 2}, 'D': {'weight': 6}}\n",
      "B {'C': {'weight': 1}}\n",
      "C {'C': {'weight': 1}, 'D': {'weight': 1}}\n",
      "D {'A': {'weight': 1}}\n"
     ]
    }
   ],
   "source": [
    "for k,v in g.adj.items():\n",
    "    print(k,v)"
   ]
  },
  {
   "cell_type": "code",
   "execution_count": 19,
   "metadata": {},
   "outputs": [],
   "source": [
    "G.add_edge('spam', 'spamX', we)"
   ]
  },
  {
   "cell_type": "code",
   "execution_count": 16,
   "metadata": {},
   "outputs": [
    {
     "data": {
      "text/plain": [
       "[('spam', 'spam'), ('spam', 'spamX')]"
      ]
     },
     "execution_count": 16,
     "metadata": {},
     "output_type": "execute_result"
    }
   ],
   "source": [
    "G.edges()"
   ]
  },
  {
   "cell_type": "code",
   "execution_count": 17,
   "metadata": {},
   "outputs": [],
   "source": [
    "edgelist = [(0, 1), (1, 2), (2, 3)]\n",
    "H = nx.Graph(edgelist)"
   ]
  },
  {
   "cell_type": "code",
   "execution_count": 53,
   "metadata": {},
   "outputs": [
    {
     "ename": "TypeError",
     "evalue": "unhashable type: 'dict'",
     "output_type": "error",
     "traceback": [
      "\u001b[0;31m---------------------------------------------------------------------------\u001b[0m",
      "\u001b[0;31mTypeError\u001b[0m                                 Traceback (most recent call last)",
      "\u001b[0;32m<ipython-input-53-936059068528>\u001b[0m in \u001b[0;36m<module>\u001b[0;34m()\u001b[0m\n\u001b[1;32m      1\u001b[0m \u001b[0mG\u001b[0m \u001b[0;34m=\u001b[0m \u001b[0mnx\u001b[0m\u001b[0;34m.\u001b[0m\u001b[0mGraph\u001b[0m\u001b[0;34m(\u001b[0m\u001b[0;34m)\u001b[0m\u001b[0;34m\u001b[0m\u001b[0m\n\u001b[1;32m      2\u001b[0m \u001b[0mattrs\u001b[0m \u001b[0;34m=\u001b[0m \u001b[0;34m{\u001b[0m\u001b[0;34m'weight'\u001b[0m\u001b[0;34m:\u001b[0m \u001b[0;36m7\u001b[0m\u001b[0;34m,\u001b[0m \u001b[0;34m'capacity'\u001b[0m\u001b[0;34m:\u001b[0m \u001b[0;36m5\u001b[0m\u001b[0;34m,\u001b[0m \u001b[0;34m'length'\u001b[0m\u001b[0;34m:\u001b[0m \u001b[0;36m342.7\u001b[0m\u001b[0;34m}\u001b[0m\u001b[0;34m\u001b[0m\u001b[0m\n\u001b[0;32m----> 3\u001b[0;31m \u001b[0mG\u001b[0m\u001b[0;34m.\u001b[0m\u001b[0madd_edge\u001b[0m\u001b[0;34m(\u001b[0m\u001b[0;34m(\u001b[0m\u001b[0;34m\"spam\"\u001b[0m\u001b[0;34m,\u001b[0m \u001b[0;34m\"me\"\u001b[0m\u001b[0;34m)\u001b[0m\u001b[0;34m,\u001b[0m \u001b[0mattrs\u001b[0m\u001b[0;34m)\u001b[0m\u001b[0;34m\u001b[0m\u001b[0m\n\u001b[0m",
      "\u001b[0;32m/anaconda3/envs/census/lib/python3.6/site-packages/networkx/classes/graph.py\u001b[0m in \u001b[0;36madd_edge\u001b[0;34m(self, u, v, attr_dict, **attr)\u001b[0m\n\u001b[1;32m    792\u001b[0m             \u001b[0mself\u001b[0m\u001b[0;34m.\u001b[0m\u001b[0madj\u001b[0m\u001b[0;34m[\u001b[0m\u001b[0mu\u001b[0m\u001b[0;34m]\u001b[0m \u001b[0;34m=\u001b[0m \u001b[0mself\u001b[0m\u001b[0;34m.\u001b[0m\u001b[0madjlist_dict_factory\u001b[0m\u001b[0;34m(\u001b[0m\u001b[0;34m)\u001b[0m\u001b[0;34m\u001b[0m\u001b[0m\n\u001b[1;32m    793\u001b[0m             \u001b[0mself\u001b[0m\u001b[0;34m.\u001b[0m\u001b[0mnode\u001b[0m\u001b[0;34m[\u001b[0m\u001b[0mu\u001b[0m\u001b[0;34m]\u001b[0m \u001b[0;34m=\u001b[0m \u001b[0;34m{\u001b[0m\u001b[0;34m}\u001b[0m\u001b[0;34m\u001b[0m\u001b[0m\n\u001b[0;32m--> 794\u001b[0;31m         \u001b[0;32mif\u001b[0m \u001b[0mv\u001b[0m \u001b[0;32mnot\u001b[0m \u001b[0;32min\u001b[0m \u001b[0mself\u001b[0m\u001b[0;34m.\u001b[0m\u001b[0mnode\u001b[0m\u001b[0;34m:\u001b[0m\u001b[0;34m\u001b[0m\u001b[0m\n\u001b[0m\u001b[1;32m    795\u001b[0m             \u001b[0mself\u001b[0m\u001b[0;34m.\u001b[0m\u001b[0madj\u001b[0m\u001b[0;34m[\u001b[0m\u001b[0mv\u001b[0m\u001b[0;34m]\u001b[0m \u001b[0;34m=\u001b[0m \u001b[0mself\u001b[0m\u001b[0;34m.\u001b[0m\u001b[0madjlist_dict_factory\u001b[0m\u001b[0;34m(\u001b[0m\u001b[0;34m)\u001b[0m\u001b[0;34m\u001b[0m\u001b[0m\n\u001b[1;32m    796\u001b[0m             \u001b[0mself\u001b[0m\u001b[0;34m.\u001b[0m\u001b[0mnode\u001b[0m\u001b[0;34m[\u001b[0m\u001b[0mv\u001b[0m\u001b[0;34m]\u001b[0m \u001b[0;34m=\u001b[0m \u001b[0;34m{\u001b[0m\u001b[0;34m}\u001b[0m\u001b[0;34m\u001b[0m\u001b[0m\n",
      "\u001b[0;31mTypeError\u001b[0m: unhashable type: 'dict'"
     ]
    }
   ],
   "source": [
    "G = nx.Graph()\n",
    "attrs = {'weight': 7, 'capacity': 5, 'length': 342.7}\n",
    "G.add_edge((\"spam\", \"me\"), attrs)"
   ]
  },
  {
   "cell_type": "code",
   "execution_count": 50,
   "metadata": {},
   "outputs": [
    {
     "data": {
      "text/plain": [
       "[('spam', 'me')]"
      ]
     },
     "execution_count": 50,
     "metadata": {},
     "output_type": "execute_result"
    }
   ],
   "source": [
    "G.edges()"
   ]
  },
  {
   "cell_type": "code",
   "execution_count": 51,
   "metadata": {},
   "outputs": [
    {
     "name": "stdout",
     "output_type": "stream",
     "text": [
      "spam {'me': {'weight': 7, 'capacity': 5, 'length': 342.7}}\n",
      "me {'spam': {'weight': 7, 'capacity': 5, 'length': 342.7}}\n"
     ]
    }
   ],
   "source": [
    "for k,v in G.adj.items():\n",
    "    print(k,v)"
   ]
  },
  {
   "cell_type": "code",
   "execution_count": 32,
   "metadata": {},
   "outputs": [],
   "source": []
  },
  {
   "cell_type": "code",
   "execution_count": 33,
   "metadata": {},
   "outputs": [
    {
     "data": {
      "text/plain": [
       "<networkx.classes.digraph.DiGraph at 0x1117eaac8>"
      ]
     },
     "execution_count": 33,
     "metadata": {},
     "output_type": "execute_result"
    }
   ],
   "source": [
    "dg"
   ]
  },
  {
   "cell_type": "code",
   "execution_count": 34,
   "metadata": {},
   "outputs": [
    {
     "data": {
      "text/plain": [
       "[2]"
      ]
     },
     "execution_count": 34,
     "metadata": {},
     "output_type": "execute_result"
    }
   ],
   "source": [
    "DG = nx.DiGraph()\n",
    ">>> DG.add_weighted_edges_from([(1, 2, 0.5), (3, 1, 0.75)])\n",
    ">>> DG.out_degree(1, weight='weight')\n",
    ">>> DG.degree(1, weight='weight')\n",
    ">>> list(DG.successors(1))\n",
    ">>> list(DG.neighbors(1))"
   ]
  },
  {
   "cell_type": "code",
   "execution_count": 36,
   "metadata": {},
   "outputs": [],
   "source": [
    "H = nx.Graph(DG)"
   ]
  },
  {
   "cell_type": "code",
   "execution_count": 39,
   "metadata": {},
   "outputs": [
    {
     "data": {
      "text/plain": [
       "[(1, 2), (3, 1)]"
      ]
     },
     "execution_count": 39,
     "metadata": {},
     "output_type": "execute_result"
    }
   ],
   "source": [
    "DG.edges()\n",
    "#H.edges()"
   ]
  },
  {
   "cell_type": "code",
   "execution_count": 40,
   "metadata": {},
   "outputs": [
    {
     "name": "stdout",
     "output_type": "stream",
     "text": [
      "1 {2: {'weight': 0.5}}\n",
      "2 {}\n",
      "3 {1: {'weight': 0.75}}\n"
     ]
    }
   ],
   "source": [
    "for k,v in DG.adj.items():\n",
    "    print(k,v)"
   ]
  },
  {
   "cell_type": "code",
   "execution_count": 41,
   "metadata": {},
   "outputs": [
    {
     "name": "stdout",
     "output_type": "stream",
     "text": [
      "1 {2: {'weight': 0.5}, 3: {'weight': 0.75}}\n",
      "2 {1: {'weight': 0.5}}\n",
      "3 {1: {'weight': 0.75}}\n"
     ]
    }
   ],
   "source": [
    "for k,v in H.adj.items():\n",
    "    print(k,v)"
   ]
  },
  {
   "cell_type": "code",
   "execution_count": 55,
   "metadata": {},
   "outputs": [
    {
     "name": "stdout",
     "output_type": "stream",
     "text": [
      "Help on method add_edge in module networkx.classes.graph:\n",
      "\n",
      "add_edge(u, v, attr_dict=None, **attr) method of networkx.classes.graph.Graph instance\n",
      "    Add an edge between u and v.\n",
      "    \n",
      "    The nodes u and v will be automatically added if they are\n",
      "    not already in the graph.\n",
      "    \n",
      "    Edge attributes can be specified with keywords or by providing\n",
      "    a dictionary with key/value pairs.  See examples below.\n",
      "    \n",
      "    Parameters\n",
      "    ----------\n",
      "    u, v : nodes\n",
      "        Nodes can be, for example, strings or numbers.\n",
      "        Nodes must be hashable (and not None) Python objects.\n",
      "    attr_dict : dictionary, optional (default= no attributes)\n",
      "        Dictionary of edge attributes.  Key/value pairs will\n",
      "        update existing data associated with the edge.\n",
      "    attr : keyword arguments, optional\n",
      "        Edge data (or labels or objects) can be assigned using\n",
      "        keyword arguments.\n",
      "    \n",
      "    See Also\n",
      "    --------\n",
      "    add_edges_from : add a collection of edges\n",
      "    \n",
      "    Notes\n",
      "    -----\n",
      "    Adding an edge that already exists updates the edge data.\n",
      "    \n",
      "    Many NetworkX algorithms designed for weighted graphs use as\n",
      "    the edge weight a numerical value assigned to a keyword\n",
      "    which by default is 'weight'.\n",
      "    \n",
      "    Examples\n",
      "    --------\n",
      "    The following all add the edge e=(1,2) to graph G:\n",
      "    \n",
      "    >>> G = nx.Graph()   # or DiGraph, MultiGraph, MultiDiGraph, etc\n",
      "    >>> e = (1,2)\n",
      "    >>> G.add_edge(1, 2)           # explicit two-node form\n",
      "    >>> G.add_edge(*e)             # single edge as tuple of two nodes\n",
      "    >>> G.add_edges_from( [(1,2)] ) # add edges from iterable container\n",
      "    \n",
      "    Associate data to edges using keywords:\n",
      "    \n",
      "    >>> G.add_edge(1, 2, weight=3)\n",
      "    >>> G.add_edge(1, 3, weight=7, capacity=15, length=342.7)\n",
      "\n"
     ]
    }
   ],
   "source": [
    "help(G.add_edge)"
   ]
  },
  {
   "cell_type": "code",
   "execution_count": null,
   "metadata": {},
   "outputs": [],
   "source": []
  }
 ],
 "metadata": {
  "kernelspec": {
   "display_name": "Python 3",
   "language": "python",
   "name": "python3"
  },
  "language_info": {
   "codemirror_mode": {
    "name": "ipython",
    "version": 3
   },
   "file_extension": ".py",
   "mimetype": "text/x-python",
   "name": "python",
   "nbconvert_exporter": "python",
   "pygments_lexer": "ipython3",
   "version": "3.6.5"
  }
 },
 "nbformat": 4,
 "nbformat_minor": 2
}
