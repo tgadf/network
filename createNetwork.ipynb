{
 "cells": [
  {
   "cell_type": "code",
   "execution_count": 14,
   "metadata": {},
   "outputs": [],
   "source": [
    "%load_ext autoreload\n",
    "%autoreload\n",
    "\n",
    "import networkx as nx\n",
    "import networkx.algorithms as algos\n",
    "from networkx.algorithms import approximation\n",
    "from networkTrips import organizeTrips\n",
    "from timeUtils import clock, elapsed, getDateTime\n",
    "from haversine import haversine\n",
    "from ioUtils import loadJoblib\n",
    "from geocluster import geoClusters\n",
    "from geoUtils import convertMetersToLat, convertLatToMeters, convertMetersToLong, convertLongToMeters\n",
    "from geoclusterUtils import genCenters, genCluster, genClusters, genTripsBetweenClusters"
   ]
  },
  {
   "cell_type": "code",
   "execution_count": 30,
   "metadata": {},
   "outputs": [],
   "source": [
    "class network():\n",
    "    def __init__(self, directed=True, debug=False):\n",
    "        self.debug = debug\n",
    "        self.directed = directed\n",
    "        \n",
    "        self.orderedEdges    = None\n",
    "        self.edgeDict        = None\n",
    "        self.orderedVertices = None\n",
    "        self.nodeDict        = None\n",
    "        \n",
    "        if self.directed is True:\n",
    "            self.g = nx.DiGraph()\n",
    "        else:\n",
    "            self.g = nx.Graph()\n",
    "            \n",
    "    def setDebug(self, debug):\n",
    "        self.debug = debug\n",
    "        \n",
    "    def getNetwork(self):\n",
    "        return self.g\n",
    "    \n",
    "    \n",
    "    ################################################################################################\n",
    "    # Vertices / Nodes / Location\n",
    "    ################################################################################################    \n",
    "    def showVertices(self):\n",
    "        for nodename,node in self.g.nodes_iter(data=True):\n",
    "            print(nodename,'\\t',node)\n",
    "                \n",
    "    def showEdges(self):\n",
    "        for edgename,edge in self.g.adj.items():\n",
    "            print(edgename,'\\t',edge)\n",
    "                \n",
    "                \n",
    "\n",
    "        \n",
    "    ################################################################################################\n",
    "    # Vertices / Nodes / Location\n",
    "    ################################################################################################    \n",
    "    def addVertex(self, name, attrs={}):\n",
    "        self.g.add_node(u=name, attr_dict=attrs)\n",
    "        if self.debug:\n",
    "            print(\"  Added node: [{0}]\".format(\", \".join(names)))\n",
    "                    \n",
    "    def updateVertexAttrs(self, attrs):\n",
    "        if not isinstance(attrs, dict):\n",
    "            print(\"Cannot add vertex attrs because the input is not a dict\")\n",
    "            return\n",
    "        nx.set_node_attributes(G=self.g, values=attrs, name=None)\n",
    "        self.orderVertices()\n",
    "        \n",
    "    def setNodeDict(self):\n",
    "        ## There is some weirdness with the way the node attrs are initially stored\n",
    "        self.nodeDict = {u: d for (u,d) in self.g.nodes(data=True)}\n",
    "        #self.nodeDict = {k: v[None] for k,v in self.nodeDict.items()}\n",
    "        \n",
    "    def orderVertices(self, metric='Centrality'):\n",
    "        self.setNodeDict()\n",
    "        if metric == 'Centrality':\n",
    "            from networkx.algorithms import degree_centrality\n",
    "            tmp = degree_centrality(self.g)\n",
    "        elif metric == 'Counts':\n",
    "            tmp = {u: d['N'] for (u,d) in self.g.nodes(data=True)}\n",
    "        else:\n",
    "            raise ValueError(\"Metric {0} is not used for vertex ordering\".format(metric))           \n",
    "        self.orderedVertices = sorted(tmp, key=tmp.get, reverse=True)\n",
    "        \n",
    "    def getVertices(self, ordered=True):\n",
    "        if self.orderedVertices is not None:\n",
    "            return self.orderedVertices\n",
    "        else:\n",
    "            self.orderVertices()\n",
    "            return self.orderedVertices\n",
    "        \n",
    "    def getVertexNumByName(self, name, debug=True):\n",
    "        vertexList = self.getVertices()\n",
    "        try:\n",
    "            vertexNum = vertexList.index(name)\n",
    "        except:\n",
    "            if debug:\n",
    "                print(\"Could not get vertex number for name {0}\".format(name))\n",
    "            vertexNum = None\n",
    "        return vertexNum\n",
    "        \n",
    "    def getVertexData(self, vertexNum, debug=True):\n",
    "        vertexList = self.getVertices()\n",
    "        if vertexNum >= len(vertexList):\n",
    "            if debug:\n",
    "                print(\"Vertex num {0} is greater than Vertex list length {1}\".format(vertexNum, len(vertexList)))\n",
    "            return None\n",
    "        try:\n",
    "            vertexName = vertexList[vertexNum]\n",
    "        except:\n",
    "            if debug:\n",
    "                print(\"Could not get Vertex name from Vertex list for num {0}\".format(vertexNum))\n",
    "            vertexName = None\n",
    "        return self.getVertexDataByName(vertexName, debug=debug)\n",
    "            \n",
    "    def getVertexDataByName(self, name, debug=True):\n",
    "        try:\n",
    "            vertexData = self.nodeDict[name]\n",
    "        except:\n",
    "            if debug:\n",
    "                print(\"Could not get Vertex data for Vertex name {0}\".format(name))\n",
    "            vertexData = None\n",
    "        return vertexData        \n",
    "            \n",
    "        \n",
    "        \n",
    "    ################################################################################################\n",
    "    # Edges / Trips\n",
    "    ################################################################################################    \n",
    "    def addEdge(self, names, attrs={}, sort=False):\n",
    "        if not isinstance(names, (tuple,list,set)):\n",
    "            print(\"Cannot add edge {0} because the names need to come in a tuple/list/set.\".format(names))\n",
    "            return\n",
    "        if len(names) == 2:\n",
    "            if sort is True:\n",
    "                names = sorted([str(x) for x in names])\n",
    "            else:\n",
    "                names = [str(x) for x in names]\n",
    "        else:\n",
    "            print(\"Cannot add edge {0} because we need two entries in the tuple/list/set.\".format(names))\n",
    "            return\n",
    "        \n",
    "        self.g.add_edge(names[0], names[1], attr_dict=attrs)\n",
    "        if self.debug:\n",
    "            print(\"  Added edge: [{0}]\".format(\", \".join(names)))\n",
    "            \n",
    "    def updateEdgeAttrs(self, attrs):\n",
    "        if not isinstance(attrs, dict):\n",
    "            print(\"Cannot add edge attrs because the input is not a dict\")\n",
    "            return\n",
    "        nx.set_edge_attributes(G=self.g, values=attrs)\n",
    "        self.orderEdges()\n",
    "        \n",
    "    def setEdgeDict(self):\n",
    "        self.edgeDict = {(u, v): d for (u,v,d) in self.g.edges(data=True)}\n",
    "        \n",
    "    def orderEdges(self, metric='Weight'):\n",
    "        self.setEdgeDict()\n",
    "        tmp = {(u,v): d[metric] for (u,v,d) in self.g.edges(data=True)}\n",
    "        self.orderedEdges = sorted(tmp, key=tmp.get, reverse=True)\n",
    "        \n",
    "    def getEdges(self, ordered=True):\n",
    "        if self.orderedEdges is not None:\n",
    "            return self.orderedEdges\n",
    "        else:\n",
    "            self.orderEdges()\n",
    "            return self.orderedEdges\n",
    "        \n",
    "    def getEdgeNumByName(self, name, debug=True):\n",
    "        edgeList = self.getEdges()\n",
    "        try:\n",
    "            edgeNum = edgeList.index(name)\n",
    "        except:\n",
    "            if debug:\n",
    "                print(\"Could not get edge number for name {0}\".format(name))\n",
    "            edgeNum = None\n",
    "        return edgeNum\n",
    "        \n",
    "    def getEdgeData(self, edgeNum, debug=True):\n",
    "        edgeList = self.getEdges()\n",
    "        if edgeNum >= len(edgeList):\n",
    "            if debug:\n",
    "                print(\"Edge num {0} is greater than edge list length {1}\".format(edgeNum, len(edgeList)))\n",
    "            return None\n",
    "        try:\n",
    "            edgeName = edgeList[edgeNum]\n",
    "        except:\n",
    "            if debug:\n",
    "                print(\"Could not get edge name from edge list for num {0}\".format(edgeNum))\n",
    "            edgeName = None\n",
    "        return self.getEdgeDataByName(edgeName, debug=debug)\n",
    "            \n",
    "    def getEdgeDataByName(self, name, debug=True):\n",
    "        try:\n",
    "            edgeData = self.edgeDict[name]\n",
    "        except:\n",
    "            if debug:\n",
    "                print(\"Could not get edge data for edge name {0}\".format(name))\n",
    "                print(self.edgeDict.keys())\n",
    "            edgeData = None\n",
    "        return edgeData"
   ]
  },
  {
   "cell_type": "code",
   "execution_count": 31,
   "metadata": {},
   "outputs": [],
   "source": [
    "class driverNetwork(network):\n",
    "    def __init__(self, trips):\n",
    "        network.__init__(self, directed=False, debug=False)\n",
    "        if trips is not None:\n",
    "            if isinstance(trips, dict):\n",
    "                self.name          = trips.get('device')\n",
    "                self.edgeMetrics   = trips.get('edgeMetrics')\n",
    "                self.vertexMetrics = trips.get('vertexMetrics')\n",
    "                self.vertexMetrics = {str(k): v for k,v in self.vertexMetrics.items()}\n",
    "                self.homeMetrics   = trips.get('homeMetrics')\n",
    "                print(\"Creating a driver network with {0} vertices and {1} edges.\".format(len(self.vertexMetrics), len(self.edgeMetrics)))\n",
    "            else:\n",
    "                raise ValueError(\"Input trips must be a dictionary of edgeMetrics, vertexMetrics, and homeMetrics (optional)\")\n",
    "        else:\n",
    "            raise ValueError(\"Input trips is None!\")\n",
    "\n",
    "    def create(self):\n",
    "        for edgename,edgedata in self.edgeMetrics.items():\n",
    "            self.addEdge(edgename, edgedata)\n",
    "        self.updateVertexAttrs(self.vertexMetrics)"
   ]
  },
  {
   "cell_type": "code",
   "execution_count": 32,
   "metadata": {},
   "outputs": [
    {
     "name": "stdout",
     "output_type": "stream",
     "text": [
      "Creating a driver network with 22 vertices and 207 edges.\n"
     ]
    }
   ],
   "source": [
    "dn = driverNetwork(trips)\n",
    "dn.create()\n",
    "g = dn.getNetwork()"
   ]
  },
  {
   "cell_type": "code",
   "execution_count": 141,
   "metadata": {},
   "outputs": [],
   "source": [
    "#dn.nodeDict[dn.getVertices()[0]]\n",
    "#dn.getVertexData(0)\n",
    "#"
   ]
  },
  {
   "cell_type": "markdown",
   "metadata": {},
   "source": [
    "# Load Data"
   ]
  },
  {
   "cell_type": "code",
   "execution_count": 17,
   "metadata": {},
   "outputs": [
    {
     "name": "stdout",
     "output_type": "stream",
     "text": [
      "Selected 1000 randomized trips\n",
      "Found Start/End for the 1000 randomized trips\n",
      "Converting (1000, 2, 2) trips to a DataFrame\n"
     ]
    }
   ],
   "source": [
    "#######################################################################################\n",
    "# Generate Clusted Data\n",
    "#######################################################################################\n",
    "genData = True\n",
    "if genData:\n",
    "    genMax  = 75\n",
    "    distMax = 500\n",
    "    raw  = genClusters(20, 250, latRange=[29.8, 30.2], lngRange=[49.8, 50.2], dist=\"gauss\", maxrad=genMax)\n",
    "    gc   = geoClusters(key=\"dummy\", points=raw, distMax=distMax, debug=False)\n",
    "    gc.findClusters(seedMin=2, debug=False)\n",
    "    df   = genTripsBetweenClusters(n=1000, gc=gc, returnDF=True)\n",
    "else:\n",
    "    df   = loadJoblib(\"trips.p\")"
   ]
  },
  {
   "cell_type": "code",
   "execution_count": 18,
   "metadata": {},
   "outputs": [
    {
     "data": {
      "text/html": [
       "<div>\n",
       "<style scoped>\n",
       "    .dataframe tbody tr th:only-of-type {\n",
       "        vertical-align: middle;\n",
       "    }\n",
       "\n",
       "    .dataframe tbody tr th {\n",
       "        vertical-align: top;\n",
       "    }\n",
       "\n",
       "    .dataframe thead th {\n",
       "        text-align: right;\n",
       "    }\n",
       "</style>\n",
       "<table border=\"1\" class=\"dataframe\">\n",
       "  <thead>\n",
       "    <tr style=\"text-align: right;\">\n",
       "      <th></th>\n",
       "      <th>lat0</th>\n",
       "      <th>long0</th>\n",
       "      <th>lat1</th>\n",
       "      <th>long1</th>\n",
       "      <th>total_miles</th>\n",
       "      <th>duration</th>\n",
       "      <th>start</th>\n",
       "      <th>end</th>\n",
       "    </tr>\n",
       "  </thead>\n",
       "  <tbody>\n",
       "    <tr>\n",
       "      <th>0</th>\n",
       "      <td>29.828202</td>\n",
       "      <td>49.923860</td>\n",
       "      <td>29.912829</td>\n",
       "      <td>50.191995</td>\n",
       "      <td>27.513606</td>\n",
       "      <td>550.272112</td>\n",
       "      <td>2018-11-07 13:21:15.650373</td>\n",
       "      <td>2018-11-07 13:30:25.922485</td>\n",
       "    </tr>\n",
       "    <tr>\n",
       "      <th>1</th>\n",
       "      <td>29.827215</td>\n",
       "      <td>49.923952</td>\n",
       "      <td>30.035841</td>\n",
       "      <td>49.912784</td>\n",
       "      <td>23.223164</td>\n",
       "      <td>464.463275</td>\n",
       "      <td>2018-11-07 13:21:15.650373</td>\n",
       "      <td>2018-11-07 13:29:00.113648</td>\n",
       "    </tr>\n",
       "    <tr>\n",
       "      <th>2</th>\n",
       "      <td>30.080868</td>\n",
       "      <td>49.819193</td>\n",
       "      <td>30.171888</td>\n",
       "      <td>49.820982</td>\n",
       "      <td>10.122464</td>\n",
       "      <td>202.449286</td>\n",
       "      <td>2018-11-07 13:21:15.650373</td>\n",
       "      <td>2018-11-07 13:24:38.099659</td>\n",
       "    </tr>\n",
       "    <tr>\n",
       "      <th>3</th>\n",
       "      <td>30.014167</td>\n",
       "      <td>49.918859</td>\n",
       "      <td>29.942636</td>\n",
       "      <td>50.171559</td>\n",
       "      <td>25.606321</td>\n",
       "      <td>512.126414</td>\n",
       "      <td>2018-11-07 13:21:15.650373</td>\n",
       "      <td>2018-11-07 13:29:47.776787</td>\n",
       "    </tr>\n",
       "    <tr>\n",
       "      <th>4</th>\n",
       "      <td>29.963853</td>\n",
       "      <td>50.019234</td>\n",
       "      <td>30.159408</td>\n",
       "      <td>50.013696</td>\n",
       "      <td>21.751160</td>\n",
       "      <td>435.023206</td>\n",
       "      <td>2018-11-07 13:21:15.650373</td>\n",
       "      <td>2018-11-07 13:28:30.673579</td>\n",
       "    </tr>\n",
       "  </tbody>\n",
       "</table>\n",
       "</div>"
      ],
      "text/plain": [
       "        lat0      long0       lat1      long1  total_miles    duration  \\\n",
       "0  29.828202  49.923860  29.912829  50.191995    27.513606  550.272112   \n",
       "1  29.827215  49.923952  30.035841  49.912784    23.223164  464.463275   \n",
       "2  30.080868  49.819193  30.171888  49.820982    10.122464  202.449286   \n",
       "3  30.014167  49.918859  29.942636  50.171559    25.606321  512.126414   \n",
       "4  29.963853  50.019234  30.159408  50.013696    21.751160  435.023206   \n",
       "\n",
       "                       start                        end  \n",
       "0 2018-11-07 13:21:15.650373 2018-11-07 13:30:25.922485  \n",
       "1 2018-11-07 13:21:15.650373 2018-11-07 13:29:00.113648  \n",
       "2 2018-11-07 13:21:15.650373 2018-11-07 13:24:38.099659  \n",
       "3 2018-11-07 13:21:15.650373 2018-11-07 13:29:47.776787  \n",
       "4 2018-11-07 13:21:15.650373 2018-11-07 13:28:30.673579  "
      ]
     },
     "execution_count": 18,
     "metadata": {},
     "output_type": "execute_result"
    }
   ],
   "source": [
    "# Show Data (if needed)\n",
    "df.head()"
   ]
  },
  {
   "cell_type": "code",
   "execution_count": 19,
   "metadata": {},
   "outputs": [
    {
     "name": "stdout",
     "output_type": "stream",
     "text": [
      "Current Time is Wed Nov 07, 2018 13:21:18 for Converting 2000 Points To Correct Format\n",
      "Data has correct format with a (2000, 2) shape.\n",
      "Current Time is Wed Nov 07, 2018 13:21:18 for Done with Converting 2000 Points To Correct Format\n",
      "Process [Done with Converting 2000 Points To Correct Format] took 0 seconds.\n",
      "Current Time is Wed Nov 07, 2018 13:21:18 for Finding Geohash (BitLen=8) Values from 2000 Points\n",
      "Current Time is Wed Nov 07, 2018 13:21:18 for Done with Finding Geohash (BitLen=8) Values from 2000 Points\n",
      "Process [Done with Finding Geohash (BitLen=8) Values from 2000 Points] took 0 seconds.\n",
      "Current Time is Wed Nov 07, 2018 13:21:18 for Finding Geohash (BitLen=8) Frequency Values from Geohash DataFrame\n",
      "Current Time is Wed Nov 07, 2018 13:21:18 for Done with Finding Geohash (BitLen=8) Frequency Values from Geohash DataFrame\n",
      "Process [Done with Finding Geohash (BitLen=8) Frequency Values from Geohash DataFrame] took 0 seconds.\n",
      "Current Time is Wed Nov 07, 2018 13:21:18 for Finding Clusters with at least 2 counts\n",
      "  --> Creating cluster cl0 with seed tj76zbn0 and 16 counts\n",
      "  --> Creating cluster cl1 with seed tj798jcr and 7 counts\n",
      "  --> Creating cluster cl2 with seed tj7ed47c and 7 counts\n",
      "  --> Creating cluster cl3 with seed tj77tsxq and 7 counts\n",
      "  --> Creating cluster cl4 with seed tj79ubdz and 6 counts\n",
      "  --> Creating cluster cl5 with seed tj7d6nrn and 6 counts\n",
      "  --> Creating cluster cl6 with seed tj76pvrz and 6 counts\n",
      "  --> Creating cluster cl7 with seed tj76zgf1 and 6 counts\n",
      "  --> Creating cluster cl8 with seed tj7dnjk7 and 5 counts\n",
      "  --> Creating cluster cl9 with seed tj7eg888 and 5 counts\n",
      "  --> Creating cluster cl10 with seed tj7ek99d and 5 counts\n",
      "  --> Creating cluster cl11 with seed tj7dmdvf and 5 counts\n",
      "  --> Creating cluster cl12 with seed tj7d2ugg and 4 counts\n",
      "  --> Creating cluster cl13 with seed tj79tt89 and 4 counts\n",
      "  --> Creating cluster cl14 with seed tj7em4k8 and 4 counts\n",
      "  --> Creating cluster cl15 with seed tj79e9j9 and 4 counts\n",
      "  --> Creating cluster cl16 with seed tj7dmfdk and 3 counts\n",
      "  --> Creating cluster cl17 with seed tj79vud9 and 3 counts\n",
      "  --> Creating cluster cl18 with seed tj77jsm5 and 3 counts\n",
      "  --> Creating cluster cl19 with seed tj7dsq45 and 3 counts\n",
      "  --> Creating cluster cl20 with seed tj7dsq95 and 2 counts\n",
      "  --> Creating cluster cl21 with seed tj7dmfk8 and 2 counts\n",
      "Current Time is Wed Nov 07, 2018 13:21:18 for Done with Finding Clusters with at least 2 counts\n",
      "Process [Done with Finding Clusters with at least 2 counts] took 0 seconds.\n",
      "Found 22 clusters using 1467 cells and 1987 counts\n",
      "Current Time is Wed Nov 07, 2018 13:21:18 for Finding Nearest Clusters for Start of Trips\n",
      "Current Time is Wed Nov 07, 2018 13:21:19 for Done with Finding Nearest Clusters for Start of Trips\n",
      "Process [Done with Finding Nearest Clusters for Start of Trips] took 0 seconds.\n",
      "Current Time is Wed Nov 07, 2018 13:21:19 for Finding Nearest Clusters for End of Trips\n",
      "Current Time is Wed Nov 07, 2018 13:21:19 for Done with Finding Nearest Clusters for End of Trips\n",
      "Process [Done with Finding Nearest Clusters for End of Trips] took 0 seconds.\n"
     ]
    }
   ],
   "source": [
    "#######################################################################################\n",
    "# Cluster Geo Data (Lat, Long)\n",
    "#######################################################################################\n",
    "points         = df[[\"lat0\", \"long0\"]]\n",
    "points.columns = [\"lat\", \"long\"]\n",
    "pnts           = df[[\"lat1\", \"long1\"]]\n",
    "pnts.columns   = [\"lat\", \"long\"]    \n",
    "points         = points.append(pnts)\n",
    "\n",
    "\n",
    "\n",
    "#######################################################################################\n",
    "# Create Clusters\n",
    "#######################################################################################\n",
    "debug=True\n",
    "gc   = geoClusters(key=\"dummy\", points=points, distMax=300, debug=debug)\n",
    "gc.findClusters(seedMin=2, debug=debug)\n",
    "if debug:\n",
    "    print(\"Found {0} clusters using {1} cells and {2} counts\".format(gc.getNClusters(), gc.getNCells(), gc.getNCounts()))\n",
    "\n",
    "    \n",
    "    \n",
    "#######################################################################################\n",
    "# Set Nearest Clusters\n",
    "#######################################################################################\n",
    "if debug:\n",
    "    start, cmt = clock(\"Finding Nearest Clusters for Start of Trips\")\n",
    "geoResults = df[['lat0', 'long0']].apply(gc.getNearestClusters, axis=1).values\n",
    "df[\"geo0\"] = [x[0] for x in geoResults]\n",
    "if debug:\n",
    "    elapsed(start, cmt)\n",
    "    start, cmt = clock(\"Finding Nearest Clusters for End of Trips\")\n",
    "geoResults = df[['lat1', 'long1']].apply(gc.getNearestClusters, axis=1).values\n",
    "df[\"geo1\"] = [x[0] for x in geoResults]    \n",
    "if debug:\n",
    "    elapsed(start, cmt)\n",
    "\n",
    "    \n",
    "    \n",
    "#######################################################################################\n",
    "# Organize Trips for Network\n",
    "#######################################################################################\n",
    "trips = organizeTrips(df=df, gc=gc, debug=False, requireGood=False)"
   ]
  },
  {
   "cell_type": "code",
   "execution_count": 20,
   "metadata": {},
   "outputs": [
    {
     "data": {
      "text/html": [
       "<div>\n",
       "<style scoped>\n",
       "    .dataframe tbody tr th:only-of-type {\n",
       "        vertical-align: middle;\n",
       "    }\n",
       "\n",
       "    .dataframe tbody tr th {\n",
       "        vertical-align: top;\n",
       "    }\n",
       "\n",
       "    .dataframe thead th {\n",
       "        text-align: right;\n",
       "    }\n",
       "</style>\n",
       "<table border=\"1\" class=\"dataframe\">\n",
       "  <thead>\n",
       "    <tr style=\"text-align: right;\">\n",
       "      <th></th>\n",
       "      <th>lat0</th>\n",
       "      <th>long0</th>\n",
       "      <th>lat1</th>\n",
       "      <th>long1</th>\n",
       "      <th>total_miles</th>\n",
       "      <th>duration</th>\n",
       "      <th>start</th>\n",
       "      <th>end</th>\n",
       "      <th>geo0</th>\n",
       "      <th>geo1</th>\n",
       "    </tr>\n",
       "  </thead>\n",
       "  <tbody>\n",
       "    <tr>\n",
       "      <th>0</th>\n",
       "      <td>29.828202</td>\n",
       "      <td>49.923860</td>\n",
       "      <td>29.912829</td>\n",
       "      <td>50.191995</td>\n",
       "      <td>27.513606</td>\n",
       "      <td>550.272112</td>\n",
       "      <td>2018-11-07 13:21:15.650373</td>\n",
       "      <td>2018-11-07 13:30:25.922485</td>\n",
       "      <td>cl1</td>\n",
       "      <td>cl8</td>\n",
       "    </tr>\n",
       "    <tr>\n",
       "      <th>1</th>\n",
       "      <td>29.827215</td>\n",
       "      <td>49.923952</td>\n",
       "      <td>30.035841</td>\n",
       "      <td>49.912784</td>\n",
       "      <td>23.223164</td>\n",
       "      <td>464.463275</td>\n",
       "      <td>2018-11-07 13:21:15.650373</td>\n",
       "      <td>2018-11-07 13:29:00.113648</td>\n",
       "      <td>cl1</td>\n",
       "      <td>cl7</td>\n",
       "    </tr>\n",
       "    <tr>\n",
       "      <th>2</th>\n",
       "      <td>30.080868</td>\n",
       "      <td>49.819193</td>\n",
       "      <td>30.171888</td>\n",
       "      <td>49.820982</td>\n",
       "      <td>10.122464</td>\n",
       "      <td>202.449286</td>\n",
       "      <td>2018-11-07 13:21:15.650373</td>\n",
       "      <td>2018-11-07 13:24:38.099659</td>\n",
       "      <td>cl18</td>\n",
       "      <td>cl3</td>\n",
       "    </tr>\n",
       "    <tr>\n",
       "      <th>3</th>\n",
       "      <td>30.014167</td>\n",
       "      <td>49.918859</td>\n",
       "      <td>29.942636</td>\n",
       "      <td>50.171559</td>\n",
       "      <td>25.606321</td>\n",
       "      <td>512.126414</td>\n",
       "      <td>2018-11-07 13:21:15.650373</td>\n",
       "      <td>2018-11-07 13:29:47.776787</td>\n",
       "      <td>cl0</td>\n",
       "      <td>cl11</td>\n",
       "    </tr>\n",
       "    <tr>\n",
       "      <th>4</th>\n",
       "      <td>29.963853</td>\n",
       "      <td>50.019234</td>\n",
       "      <td>30.159408</td>\n",
       "      <td>50.013696</td>\n",
       "      <td>21.751160</td>\n",
       "      <td>435.023206</td>\n",
       "      <td>2018-11-07 13:21:15.650373</td>\n",
       "      <td>2018-11-07 13:28:30.673579</td>\n",
       "      <td>cl5</td>\n",
       "      <td>cl2</td>\n",
       "    </tr>\n",
       "  </tbody>\n",
       "</table>\n",
       "</div>"
      ],
      "text/plain": [
       "        lat0      long0       lat1      long1  total_miles    duration  \\\n",
       "0  29.828202  49.923860  29.912829  50.191995    27.513606  550.272112   \n",
       "1  29.827215  49.923952  30.035841  49.912784    23.223164  464.463275   \n",
       "2  30.080868  49.819193  30.171888  49.820982    10.122464  202.449286   \n",
       "3  30.014167  49.918859  29.942636  50.171559    25.606321  512.126414   \n",
       "4  29.963853  50.019234  30.159408  50.013696    21.751160  435.023206   \n",
       "\n",
       "                       start                        end  geo0  geo1  \n",
       "0 2018-11-07 13:21:15.650373 2018-11-07 13:30:25.922485   cl1   cl8  \n",
       "1 2018-11-07 13:21:15.650373 2018-11-07 13:29:00.113648   cl1   cl7  \n",
       "2 2018-11-07 13:21:15.650373 2018-11-07 13:24:38.099659  cl18   cl3  \n",
       "3 2018-11-07 13:21:15.650373 2018-11-07 13:29:47.776787   cl0  cl11  \n",
       "4 2018-11-07 13:21:15.650373 2018-11-07 13:28:30.673579   cl5   cl2  "
      ]
     },
     "execution_count": 20,
     "metadata": {},
     "output_type": "execute_result"
    }
   ],
   "source": [
    "# Show data frame (if needed)\n",
    "from pandasUtils import castDateTime\n",
    "df['start'] = castDateTime(df['start'])\n",
    "df['end'] = castDateTime(df['end'])\n",
    "df.head()"
   ]
  },
  {
   "cell_type": "markdown",
   "metadata": {},
   "source": [
    "# Run the Network"
   ]
  },
  {
   "cell_type": "code",
   "execution_count": 1,
   "metadata": {},
   "outputs": [],
   "source": [
    "from networkx import algorithms as algos"
   ]
  },
  {
   "cell_type": "code",
   "execution_count": 5,
   "metadata": {},
   "outputs": [
    {
     "ename": "AttributeError",
     "evalue": "module 'networkx.algorithms' has no attribute 'approximation'",
     "output_type": "error",
     "traceback": [
      "\u001b[0;31m---------------------------------------------------------------------------\u001b[0m",
      "\u001b[0;31mAttributeError\u001b[0m                            Traceback (most recent call last)",
      "\u001b[0;32m<ipython-input-5-e06b3352f613>\u001b[0m in \u001b[0;36m<module>\u001b[0;34m()\u001b[0m\n\u001b[1;32m      1\u001b[0m \u001b[0;32mimport\u001b[0m \u001b[0mnetworkx\u001b[0m \u001b[0;32mas\u001b[0m \u001b[0mnx\u001b[0m\u001b[0;34m\u001b[0m\u001b[0m\n\u001b[1;32m      2\u001b[0m \u001b[0mnx\u001b[0m\u001b[0;34m.\u001b[0m\u001b[0m__version__\u001b[0m\u001b[0;34m\u001b[0m\u001b[0m\n\u001b[0;32m----> 3\u001b[0;31m \u001b[0mnx\u001b[0m\u001b[0;34m.\u001b[0m\u001b[0malgorithms\u001b[0m\u001b[0;34m.\u001b[0m\u001b[0mapproximation\u001b[0m\u001b[0;34m.\u001b[0m\u001b[0msteinertree\u001b[0m\u001b[0;34m.\u001b[0m\u001b[0msteiner_tree\u001b[0m\u001b[0;34m\u001b[0m\u001b[0m\n\u001b[0m",
      "\u001b[0;31mAttributeError\u001b[0m: module 'networkx.algorithms' has no attribute 'approximation'"
     ]
    }
   ],
   "source": [
    "import networkx as nx\n",
    "nx.__version__\n",
    "nx.algorithms.approximation.steinertree.steiner_tree"
   ]
  },
  {
   "cell_type": "code",
   "execution_count": 93,
   "metadata": {},
   "outputs": [],
   "source": [
    "def runAlgos(algosToRun, g):\n",
    "    from types import GeneratorType\n",
    "    results = {}\n",
    "    for algo in algosToRun:\n",
    "        name = algo.__name__\n",
    "\n",
    "        try:\n",
    "            results[name] = algo(g)\n",
    "        except:\n",
    "            results[name] = None\n",
    "\n",
    "        if isinstance(results[name], GeneratorType):\n",
    "            results[name] = len([1 for _ in results[name]])\n",
    "            try:\n",
    "                results[name] = len([1 for _ in algo])\n",
    "            except:\n",
    "                pass\n",
    "                \n",
    "                \n",
    "    print(results)"
   ]
  },
  {
   "cell_type": "code",
   "execution_count": 77,
   "metadata": {},
   "outputs": [],
   "source": [
    "algosToRun = []\n",
    "algosToRun.append(algos.all_pairs_node_connectivity)\n",
    "algosToRun.append(algos.node_connectivity)\n",
    "algosToRun.append(algos.k_components)\n",
    "algosToRun.append(algos.average_clustering)\n",
    "#runAlgos(algosToRun, g)"
   ]
  },
  {
   "cell_type": "code",
   "execution_count": 78,
   "metadata": {},
   "outputs": [],
   "source": [
    "algosToRun = []\n",
    "algosToRun.append(algos.degree_assortativity_coefficient)\n",
    "algosToRun.append(algos.degree_pearson_correlation_coefficient)\n",
    "algosToRun.append(algos.average_neighbor_degree)\n",
    "algosToRun.append(algos.average_degree_connectivity)\n",
    "algosToRun.append(algos.k_nearest_neighbors)\n",
    "algosToRun.append(algos.degree_mixing_matrix)\n",
    "algosToRun.append(algos.degree_mixing_dict)\n",
    "#runAlgos(algosToRun, g)"
   ]
  },
  {
   "cell_type": "code",
   "execution_count": 95,
   "metadata": {},
   "outputs": [
    {
     "name": "stdout",
     "output_type": "stream",
     "text": [
      "{'is_bipartite': False, 'sets': None}\n"
     ]
    }
   ],
   "source": [
    "algosToRun = []\n",
    "algosToRun.append(algos.is_bipartite)\n",
    "algosToRun.append(algos.bipartite.sets)\n",
    "#runAlgos(algosToRun, g)"
   ]
  },
  {
   "cell_type": "code",
   "execution_count": 96,
   "metadata": {},
   "outputs": [],
   "source": [
    "algosToRun = []\n",
    "algosToRun.append(algos.bridges)\n",
    "algosToRun.append(algos.has_bridges)\n",
    "#runAlgos(algosToRun, g)"
   ]
  },
  {
   "cell_type": "code",
   "execution_count": 98,
   "metadata": {},
   "outputs": [],
   "source": [
    "algosToRun = []\n",
    "algosToRun.append(algos.degree_centrality)\n",
    "algosToRun.append(algos.in_degree_centrality)\n",
    "algosToRun.append(algos.out_degree_centrality)\n",
    "algosToRun.append(algos.eigenvector_centrality)\n",
    "algosToRun.append(algos.eigenvector_centrality_numpy)\n",
    "algosToRun.append(algos.katz_centrality)\n",
    "algosToRun.append(algos.katz_centrality_numpy)\n",
    "algosToRun.append(algos.closeness_centrality)\n",
    "algosToRun.append(algos.current_flow_closeness_centrality)\n",
    "algosToRun.append(algos.information_centrality)\n",
    "algosToRun.append(algos.betweenness_centrality)\n",
    "algosToRun.append(algos.edge_betweenness_centrality)\n",
    "algosToRun.append(algos.betweenness_centrality_subset)\n",
    "algosToRun.append(algos.edge_betweenness_centrality_subset)\n",
    "algosToRun.append(algos.current_flow_betweenness_centrality)\n",
    "algosToRun.append(algos.edge_current_flow_betweenness_centrality)\n",
    "algosToRun.append(algos.approximate_current_flow_betweenness_centrality)\n",
    "algosToRun.append(algos.current_flow_betweenness_centrality_subset)\n",
    "algosToRun.append(algos.edge_current_flow_betweenness_centrality_subset)\n",
    "algosToRun.append(algos.communicability_betweenness_centrality)\n",
    "algosToRun.append(algos.load_centrality)\n",
    "algosToRun.append(algos.edge_load_centrality)\n",
    "algosToRun.append(algos.subgraph_centrality)\n",
    "algosToRun.append(algos.subgraph_centrality_exp)\n",
    "algosToRun.append(algos.estrada_index)\n",
    "algosToRun.append(algos.harmonic_centrality)\n",
    "algosToRun.append(algos.local_reaching_centrality)\n",
    "algosToRun.append(algos.global_reaching_centrality)\n",
    "algosToRun.append(algos.percolation_centrality)\n",
    "algosToRun.append(algos.second_order_centrality)\n",
    "#runAlgos(algosToRun, g)"
   ]
  },
  {
   "cell_type": "code",
   "execution_count": 99,
   "metadata": {},
   "outputs": [
    {
     "name": "stdout",
     "output_type": "stream",
     "text": [
      "{'chain_decomposition': 186}\n"
     ]
    }
   ],
   "source": [
    "algosToRun = []\n",
    "algosToRun.append(algos.chain_decomposition)\n",
    "runAlgos(algosToRun, g)"
   ]
  },
  {
   "cell_type": "code",
   "execution_count": 104,
   "metadata": {},
   "outputs": [],
   "source": [
    "algosToRun = []\n",
    "algosToRun.append(algos.is_chordal)\n",
    "algosToRun.append(algos.chordal_graph_cliques)\n",
    "algosToRun.append(algos.chordal_graph_treewidth)\n",
    "algosToRun.append(algos.find_induced_nodes)\n",
    "#runAlgos(algosToRun, g)"
   ]
  },
  {
   "cell_type": "code",
   "execution_count": 103,
   "metadata": {},
   "outputs": [],
   "source": [
    "algosToRun = []\n",
    "algosToRun.append(algos.enumerate_all_cliques)\n",
    "algosToRun.append(algos.find_cliques)\n",
    "#algosToRun.append(algos.make_max_clique_graph)\n",
    "#algosToRun.append(algos.make_clique_bipartite)\n",
    "algosToRun.append(algos.graph_clique_number)\n",
    "algosToRun.append(algos.graph_number_of_cliques)\n",
    "algosToRun.append(algos.node_clique_number)\n",
    "algosToRun.append(algos.number_of_cliques)\n",
    "algosToRun.append(algos.cliques_containing_node)\n",
    "#runAlgos(algosToRun, g)"
   ]
  },
  {
   "cell_type": "code",
   "execution_count": 106,
   "metadata": {},
   "outputs": [],
   "source": [
    "algosToRun = []\n",
    "algosToRun.append(algos.triangles)\n",
    "algosToRun.append(algos.transitivity)\n",
    "algosToRun.append(algos.clustering)\n",
    "algosToRun.append(algos.average_clustering)\n",
    "algosToRun.append(algos.square_clustering)\n",
    "algosToRun.append(algos.generalized_degree)\n",
    "#runAlgos(algosToRun, g)"
   ]
  },
  {
   "cell_type": "code",
   "execution_count": 108,
   "metadata": {},
   "outputs": [],
   "source": [
    "algosToRun = []\n",
    "algosToRun.append(algos.communicability)"
   ]
  },
  {
   "cell_type": "code",
   "execution_count": 109,
   "metadata": {},
   "outputs": [
    {
     "name": "stdout",
     "output_type": "stream",
     "text": [
      "{'kernighan_lin_bisection': ({'17', '1', '0', '10', '6', '11', '12', '7', '4', '20', '13'}, {'5', '16', '21', '8', '14', '15', '18', '3', '9', '19', '2'}), 'k_clique_communities': None, 'greedy_modularity_communities': [frozenset({'17', '0', '6', '3', '11', '12', '7', '4', '19', '20', '2'}), frozenset({'1', '21', '8', '10', '15', '18', '13'}), frozenset({'14', '16'}), frozenset({'5'}), frozenset({'9'})], 'asyn_lpa_communities': <dict_valueiterator object at 0x1a20bf9598>, 'label_propagation_communities': 1, 'asyn_fluidc': None, 'girvan_newman': 21}\n"
     ]
    }
   ],
   "source": [
    "algosToRun = []\n",
    "algosToRun.append(algos.community.kernighan_lin_bisection)\n",
    "algosToRun.append(algos.community.k_clique_communities)\n",
    "algosToRun.append(algos.community.greedy_modularity_communities)\n",
    "algosToRun.append(algos.community.asyn_lpa_communities)\n",
    "algosToRun.append(algos.community.label_propagation_communities)\n",
    "algosToRun.append(algos.community.asyn_fluidc)\n",
    "algosToRun.append(algos.community.girvan_newman)\n",
    "runAlgos(algosToRun, g)"
   ]
  },
  {
   "cell_type": "code",
   "execution_count": 110,
   "metadata": {},
   "outputs": [
    {
     "name": "stdout",
     "output_type": "stream",
     "text": [
      "{'is_connected': True, 'number_connected_components': 1, 'is_strongly_connected': None, 'number_strongly_connected_components': None, 'is_weakly_connected': None, 'number_weakly_connected_components': None, 'is_attracting_component': None, 'number_attracting_components': None, 'is_biconnected': True, 'articulation_points': 0, 'is_semiconnected': None}\n"
     ]
    }
   ],
   "source": [
    "algosToRun = []\n",
    "algosToRun.append(algos.is_connected)\n",
    "algosToRun.append(algos.number_connected_components)\n",
    "algosToRun.append(algos.is_strongly_connected)\n",
    "algosToRun.append(algos.number_strongly_connected_components)\n",
    "algosToRun.append(algos.is_weakly_connected)\n",
    "algosToRun.append(algos.number_weakly_connected_components)\n",
    "algosToRun.append(algos.is_attracting_component)\n",
    "algosToRun.append(algos.number_attracting_components)\n",
    "algosToRun.append(algos.is_biconnected)\n",
    "algosToRun.append(algos.articulation_points)\n",
    "algosToRun.append(algos.is_semiconnected)\n",
    "runAlgos(algosToRun, g)"
   ]
  },
  {
   "cell_type": "code",
   "execution_count": 36,
   "metadata": {},
   "outputs": [],
   "source": [
    "\n",
    "\n",
    "if False:\n",
    "\n",
    "\n",
    "\n",
    "\n",
    "\n",
    "\n",
    "    algosToRun = []\n",
    "    algosToRun.append(algos.k_components)\n",
    "    algosToRun.append(algos.all_node_cuts)\n",
    "    algosToRun.append(algos.average_node_connectivity)\n",
    "    algosToRun.append(algos.all_pairs_node_connectivity)\n",
    "    algosToRun.append(algos.edge_connectivity)\n",
    "    algosToRun.append(algos.node_connectivity)\n",
    "    algosToRun.append(algos.minimum_edge_cut)\n",
    "    algosToRun.append(algos.minimum_node_cut)\n",
    "    algosToRun.append(algos.stoer_wagner)\n",
    "\n"
   ]
  },
  {
   "cell_type": "code",
   "execution_count": 190,
   "metadata": {},
   "outputs": [
    {
     "ename": "AttributeError",
     "evalue": "module 'networkx.algorithms.connectivity' has no attribute 'edge_augmentation'",
     "output_type": "error",
     "traceback": [
      "\u001b[0;31m---------------------------------------------------------------------------\u001b[0m",
      "\u001b[0;31mAttributeError\u001b[0m                            Traceback (most recent call last)",
      "\u001b[0;32m<ipython-input-190-7a482cce1a42>\u001b[0m in \u001b[0;36m<module>\u001b[0;34m()\u001b[0m\n\u001b[0;32m----> 1\u001b[0;31m \u001b[0mnx\u001b[0m\u001b[0;34m.\u001b[0m\u001b[0malgorithms\u001b[0m\u001b[0;34m.\u001b[0m\u001b[0mconnectivity\u001b[0m\u001b[0;34m.\u001b[0m\u001b[0medge_augmentation\u001b[0m\u001b[0;34m.\u001b[0m\u001b[0mk_edge_augmentation\u001b[0m\u001b[0;34m\u001b[0m\u001b[0m\n\u001b[0m",
      "\u001b[0;31mAttributeError\u001b[0m: module 'networkx.algorithms.connectivity' has no attribute 'edge_augmentation'"
     ]
    }
   ],
   "source": [
    "nx.algorithms.connectivity."
   ]
  },
  {
   "cell_type": "code",
   "execution_count": null,
   "metadata": {},
   "outputs": [],
   "source": [
    "x = {1: \"hoi\", 2: \"test\"}"
   ]
  },
  {
   "cell_type": "code",
   "execution_count": null,
   "metadata": {},
   "outputs": [],
   "source": [
    "x"
   ]
  },
  {
   "cell_type": "code",
   "execution_count": null,
   "metadata": {},
   "outputs": [],
   "source": [
    "x = {str(k): v for k,v in x.items()}"
   ]
  },
  {
   "cell_type": "code",
   "execution_count": null,
   "metadata": {},
   "outputs": [],
   "source": [
    "x"
   ]
  },
  {
   "cell_type": "code",
   "execution_count": 23,
   "metadata": {},
   "outputs": [
    {
     "ename": "AttributeError",
     "evalue": "module 'networkx' has no attribute 'addEdge'",
     "output_type": "error",
     "traceback": [
      "\u001b[0;31m---------------------------------------------------------------------------\u001b[0m",
      "\u001b[0;31mAttributeError\u001b[0m                            Traceback (most recent call last)",
      "\u001b[0;32m<ipython-input-23-24fb4b71dc75>\u001b[0m in \u001b[0;36m<module>\u001b[0;34m()\u001b[0m\n\u001b[0;32m----> 1\u001b[0;31m \u001b[0mhelp\u001b[0m\u001b[0;34m(\u001b[0m\u001b[0mnx\u001b[0m\u001b[0;34m.\u001b[0m\u001b[0maddEdge\u001b[0m\u001b[0;34m)\u001b[0m\u001b[0;34m\u001b[0m\u001b[0m\n\u001b[0m",
      "\u001b[0;31mAttributeError\u001b[0m: module 'networkx' has no attribute 'addEdge'"
     ]
    }
   ],
   "source": [
    "help(nx.addEdge)"
   ]
  },
  {
   "cell_type": "code",
   "execution_count": null,
   "metadata": {},
   "outputs": [],
   "source": []
  }
 ],
 "metadata": {
  "kernelspec": {
   "display_name": "Python 3",
   "language": "python",
   "name": "python3"
  },
  "language_info": {
   "codemirror_mode": {
    "name": "ipython",
    "version": 3
   },
   "file_extension": ".py",
   "mimetype": "text/x-python",
   "name": "python",
   "nbconvert_exporter": "python",
   "pygments_lexer": "ipython3",
   "version": "3.6.5"
  }
 },
 "nbformat": 4,
 "nbformat_minor": 2
}
